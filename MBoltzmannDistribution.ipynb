{
  "nbformat": 4,
  "nbformat_minor": 0,
  "metadata": {
    "colab": {
      "provenance": [],
      "include_colab_link": true
    },
    "kernelspec": {
      "display_name": "Python 3",
      "language": "python",
      "name": "python3"
    },
    "language_info": {
      "codemirror_mode": {
        "name": "ipython",
        "version": 3
      },
      "file_extension": ".py",
      "mimetype": "text/x-python",
      "name": "python",
      "nbconvert_exporter": "python",
      "pygments_lexer": "ipython3",
      "version": "3.7.3"
    },
    "latex_envs": {
      "LaTeX_envs_menu_present": true,
      "autoclose": false,
      "autocomplete": true,
      "bibliofile": "biblio.bib",
      "cite_by": "apalike",
      "current_citInitial": 1,
      "eqLabelWithNumbers": true,
      "eqNumInitial": 1,
      "hotkeys": {
        "equation": "Ctrl-E",
        "itemize": "Ctrl-I"
      },
      "labels_anchors": false,
      "latex_user_defs": false,
      "report_style_numbering": false,
      "user_envs_cfg": false
    },
    "nbTranslate": {
      "displayLangs": [
        "*"
      ],
      "hotkey": "alt-t",
      "langInMainMenu": true,
      "sourceLang": "en",
      "targetLang": "fr",
      "useGoogleTranslate": true
    },
    "toc": {
      "base_numbering": 1,
      "nav_menu": {},
      "number_sections": true,
      "sideBar": true,
      "skip_h1_title": false,
      "title_cell": "Table of Contents",
      "title_sidebar": "Contents",
      "toc_cell": false,
      "toc_position": {},
      "toc_section_display": true,
      "toc_window_display": false
    }
  },
  "cells": [
    {
      "cell_type": "markdown",
      "metadata": {
        "id": "view-in-github",
        "colab_type": "text"
      },
      "source": [
        "<a href=\"https://colab.research.google.com/github/marcocaramanti/MLPNS_MCaramanti/blob/main/MBoltzmannDistribution.ipynb\" target=\"_parent\"><img src=\"https://colab.research.google.com/assets/colab-badge.svg\" alt=\"Open In Colab\"/></a>"
      ]
    },
    {
      "cell_type": "markdown",
      "metadata": {
        "ExecuteTime": {
          "end_time": "2019-09-04T04:50:01.872913Z",
          "start_time": "2019-09-04T04:50:01.869703Z"
        },
        "id": "dk3tkh__KvAc"
      },
      "source": [
        " Written by Federica B. Bianco @fedhere\n",
        "UDel DSPS"
      ]
    },
    {
      "cell_type": "code",
      "metadata": {
        "ExecuteTime": {
          "end_time": "2019-09-07T17:36:53.625807Z",
          "start_time": "2019-09-07T17:36:53.393906Z"
        },
        "colab": {
          "base_uri": "https://localhost:8080/"
        },
        "id": "iQaonMUBqtX2",
        "outputId": "e5f43fbf-64fd-409d-da05-797ac4789bd3"
      },
      "source": [
        "from __future__ import print_function, division\n",
        "'''\n",
        "Questo comando garantisce la compatibilità fra Python2 e Python3\n",
        "C'è incompatibilità fra le due versioni di Python (Python3 è stato un\n",
        "\"disruptive update\")\n",
        "In Python2 i print sono scritti senza parentesi\n",
        "print \"Hello world\"\n",
        "Questa libreria dà compatibilità da Python3 a Python2 e fa in modo che il codice\n",
        "con le parentesi funzioni anche in Python2.\n",
        "Cambia anche la divisione. In Python3 1/2 produce un float, mentre in Python2\n",
        "avrebbe prodotto floor(1/2).\n",
        "Questi sono i minimi import che garantiscono la compatibilità di un codice \n",
        "scritto in Python3 con un interprete Python2\n",
        "'''\n",
        "import numpy as np\n",
        "import scipy as sp\n",
        "from scipy import stats\n",
        "import pylab as pl\n",
        "%pylab inline\n",
        "pl.style.use(\"https://raw.githubusercontent.com/fedhere/MLPNS2023/master/fbb.mplstyle\")\n",
        "# Serve per importare preferenze standard su come realizzare i grafici\n"
      ],
      "execution_count": 4,
      "outputs": [
        {
          "output_type": "stream",
          "name": "stdout",
          "text": [
            "Populating the interactive namespace from numpy and matplotlib\n"
          ]
        }
      ]
    },
    {
      "cell_type": "markdown",
      "metadata": {
        "id": "zu5QKDi5b7vW"
      },
      "source": [
        "# Homework 1: Maxwell Boltzmann distribution"
      ]
    },
    {
      "cell_type": "markdown",
      "metadata": {
        "id": "ueaB0mHCO_iM"
      },
      "source": [
        "In Physics, statistics can help us describe the macroscopic behavior of a system if we know its microscopic properties in a statistical sense. We cannot know the motion of each molecule in a gas, but we can know the distribution of their velocities and positions.   In the mid to late 1800s, James Clerk Maxwell and Ludwig Boltzmann modeled the *distribution of speed of molecules in a gas*. As you probably know, and can intuitive realize, the speed of the molecules depends on the temperature of the gas, which is a macroscopic property, the velocity of the molecules is different for different gas temperatures. **This distribution of velocities is called the Maxwell-Boltzmann distribution.**\n"
      ]
    },
    {
      "cell_type": "markdown",
      "source": [],
      "metadata": {
        "id": "uBugTa4XFpdN"
      }
    },
    {
      "cell_type": "markdown",
      "metadata": {
        "id": "7LpR51uQSvN9"
      },
      "source": [
        "It turns out that the Maxwel-Boltzmann distribution is a special case of the [*Chi distribution*](https://en.wikipedia.org/wiki/Chi_distribution) with 3 degrees of freedom, and with a scale parameter corresponding to the temperature in some way. \n"
      ]
    },
    {
      "cell_type": "markdown",
      "metadata": {
        "id": "Pc25lN9SUxQL"
      },
      "source": [
        "Below I have created 3 distributions. Based on the description above\n",
        "\n",
        "\n",
        "# 1) label the axes in the plot"
      ]
    },
    {
      "cell_type": "code",
      "metadata": {
        "ExecuteTime": {
          "end_time": "2019-09-07T17:36:56.493299Z",
          "start_time": "2019-09-07T17:36:56.021862Z"
        },
        "colab": {
          "base_uri": "https://localhost:8080/",
          "height": 350
        },
        "id": "LZm2afzhUwuG",
        "outputId": "9032bc2a-9865-4c6a-8c5e-9f94e2347380"
      },
      "source": [
        "np.random.randn(123)\n",
        "fig, ax = pl.subplots()\n",
        "for a in [0.2, 0.6, 1.0]:\n",
        "    ax.hist(sp.stats.chi.rvs(df=3, scale=a, size=1000), # could as well be sp.stats.maxwell.rvs(scale=a, size=1000)\n",
        "          bins=np.arange(0,5,0.1), alpha=0.7,\n",
        "       label=\"a = %.1f\"%a);\n",
        "# Il metodo .rvs() estrae dei campioni secondo quella distribuzione di prob.\n",
        "\n",
        "pl.legend();\n",
        "\n",
        "# your code to add labels here\n",
        "pl.xlabel(\"Speed\")\n",
        "pl.ylabel(\"Number of molecules\")"
      ],
      "execution_count": 5,
      "outputs": [
        {
          "output_type": "execute_result",
          "data": {
            "text/plain": [
              "Text(0, 0.5, 'Number of molecules')"
            ]
          },
          "metadata": {},
          "execution_count": 5
        },
        {
          "output_type": "stream",
          "name": "stderr",
          "text": [
            "WARNING:matplotlib.font_manager:findfont: Font family ['[\"sans-serif\"]'] not found. Falling back to DejaVu Sans.\n",
            "WARNING:matplotlib.font_manager:findfont: Font family ['[\"sans-serif\"]'] not found. Falling back to DejaVu Sans.\n"
          ]
        },
        {
          "output_type": "display_data",
          "data": {
            "text/plain": [
              "<Figure size 432x288 with 1 Axes>"
            ],
            "image/png": "[encoded data removed]"
          },
          "metadata": {}
        }
      ]
    },
    {
      "cell_type": "markdown",
      "metadata": {
        "id": "MGdILsLAaopl"
      },
      "source": [
        "# 2) knowing that the *scale* parameter $a$  is a function of the temperature  *T*, and that the dependency is to a power 1/2, which is correct:\n",
        "   **$a \\propto \\sqrt{T}$**  or **$a \\propto \\sqrt{1/T}$**? \n",
        "\n",
        "   (in other words, is the dependency on the root of the temperature or on the inverse root of the temperature ?)\n",
        " "
      ]
    },
    {
      "cell_type": "markdown",
      "metadata": {
        "id": "vMGhorbvcrFM"
      },
      "source": [
        "The correct dependence is $\\sqrt{T}$"
      ]
    },
    {
      "cell_type": "markdown",
      "metadata": {
        "id": "hGeeXYttXLO1"
      },
      "source": [
        "\n",
        "# 3) What is the mean of all three distributions. How does it compare to the most probable molecular speed? \n",
        "From the wikipedia page of the Chi distribution find the formula of the mean of the Chi distribution. The distribution we are using has a scale parameter *a* in addition to the number of degrees of freedom. The mean scales linearly with this parameter:\n",
        "\n",
        "$\\mu_{\\mathrm{MB}, k, a} = a \\cdot \\mu_{\\mathrm{chi}, k}$\n",
        "\n",
        "Using the scipy function ```sp.special.gamma()```  calculate the gamma $\\Gamma$ function,\n",
        "\n",
        "**calculate the mean of all three distributions. Compare it with the mean of the empirical distributions I generated in step 1. How does this mean compare to the most probable molecular speed.**"
      ]
    },
    {
      "cell_type": "code",
      "metadata": {
        "ExecuteTime": {
          "end_time": "2019-09-07T17:36:59.245480Z",
          "start_time": "2019-09-07T17:36:59.243338Z"
        },
        "id": "-8htAA4mRAVa",
        "colab": {
          "base_uri": "https://localhost:8080/"
        },
        "outputId": "a2073b3b-fb51-4cbc-e9a7-64d4b2373711"
      },
      "source": [
        "media_chi2 = np.sqrt(2)*sp.special.gamma((3+1)/2)/sp.special.gamma(3/2)\n",
        "\n",
        "for a in [0.2, 0.6, 1.0]:\n",
        "  print(\"a = \" + str(a))\n",
        "  print(\"Sample mean: \" + str(sp.stats.chi.rvs(df=3, scale=a, \n",
        "                                          random_state=323, size=1000).mean()))\n",
        "  print(\"Theoretical mean: \" + str(a*media_chi2))\n"
      ],
      "execution_count": 20,
      "outputs": [
        {
          "output_type": "stream",
          "name": "stdout",
          "text": [
            "a = 0.2\n",
            "Sample mean: 0.3199400612174253\n",
            "Theoretical mean: 0.31915382432114625\n",
            "a = 0.6\n",
            "Sample mean: 0.9598201836522758\n",
            "Theoretical mean: 0.9574614729634385\n",
            "a = 1.0\n",
            "Sample mean: 1.5997003060871264\n",
            "Theoretical mean: 1.595769121605731\n"
          ]
        }
      ]
    },
    {
      "cell_type": "code",
      "source": [
        "# Solution\n",
        "\n",
        "# Come andare a capo nel codice?\n",
        "# Opzione 1: se stiamo scrivendo qualcosa dentro parentesi, basta fare a capo.\n",
        "# Se non siamo dentro parentesi possiamo sempre aggiungerle\n",
        "# Opzione 2: usare \\\n",
        "\n",
        "def meanchi(a, k=3):\n",
        "  \"\"\"\n",
        "  Utility function to calculate mean of Maxwell-Boltzmann distribution\n",
        "  Input:\n",
        "  a: (float or int) scaling parameter of MB distribution\n",
        "  k: (int) number of degrees of freedom for chi distribution (optional)\n",
        "  Output:\n",
        "  mean of the distribution\n",
        "  \"\"\"\n",
        "\n",
        "  return np.sqrt(2) * sp.special.gamma((k + 1) * 0.5) / sp.special.gamma(k / 2)\n",
        "\n",
        "def meanMB(a):\n",
        "  \"\"\"\n",
        "  Utility function to calculate mean of Maxwell-Boltzmann distribution\n",
        "  Input:\n",
        "  a: (float or int) scaling parameter of MB distribution\n",
        "  Output:\n",
        "  mean of the distribution\n",
        "  \"\"\"\n",
        "\n",
        "  return 2 * a * np.sqrt(2 / np.pi)\n",
        "\n",
        "for a in [0.2, 0.6, 1.0]:\n",
        "  print(\"From theoretical formula for MB: {0:.2f}\".format(meanMB(a)))\n",
        "  print(\"From theoretical formula for chi: {0:.2f}\".format(meanchi(a)))\n",
        "  print(\"From distribution: {0:.2f}\".format(\n",
        "      sp.stats.chi.rvs(df=3, scale=a, random_state=323, size=1000).mean()))"
      ],
      "metadata": {
        "colab": {
          "base_uri": "https://localhost:8080/"
        },
        "id": "pkRCKk2MNLHA",
        "outputId": "22867df0-d415-4041-e889-de15065aae53"
      },
      "execution_count": 23,
      "outputs": [
        {
          "output_type": "stream",
          "name": "stdout",
          "text": [
            "From theoretical formula for MB: 0.32\n",
            "From theoretical formula for chi: 1.60\n",
            "From distribution: 0.32\n",
            "From theoretical formula for MB: 0.96\n",
            "From theoretical formula for chi: 1.60\n",
            "From distribution: 0.96\n",
            "From theoretical formula for MB: 1.60\n",
            "From theoretical formula for chi: 1.60\n",
            "From distribution: 1.60\n"
          ]
        }
      ]
    },
    {
      "cell_type": "markdown",
      "metadata": {
        "id": "r7oes80EQER-"
      },
      "source": [
        "This really only holds for perfect gasses, which means under 4 assumptions: \n",
        "- the diameter of the molecules is much smaller than the distance between them\n",
        "- the collisions between molecules conserve energy\n",
        "- the molecules do not interact between collisions and are not subject to any other forces (move at constant speed in a straight line)\n",
        "- the initial position and velocity are random."
      ]
    },
    {
      "cell_type": "markdown",
      "metadata": {
        "id": "3PJ9hjLzQjyA"
      },
      "source": [
        "# Extra Credit:\n",
        "\n",
        "can you create a python (2D) simulation where the molecules behave as describe and calculate their speed evolution from an initial speed that is gaussian distributed? (rather hard!!)\n"
      ]
    },
    {
      "cell_type": "code",
      "metadata": {
        "ExecuteTime": {
          "end_time": "2019-09-07T17:37:01.623460Z",
          "start_time": "2019-09-07T17:37:01.621218Z"
        },
        "id": "6LJU9GPVRO7B"
      },
      "source": [
        "# your code here"
      ],
      "execution_count": null,
      "outputs": []
    },
    {
      "cell_type": "code",
      "metadata": {
        "id": "WN8ljqmZPCBT"
      },
      "source": [],
      "execution_count": null,
      "outputs": []
    }
  ]
}