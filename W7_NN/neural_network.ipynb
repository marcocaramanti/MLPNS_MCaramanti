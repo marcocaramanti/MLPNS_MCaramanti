{
  "nbformat": 4,
  "nbformat_minor": 0,
  "metadata": {
    "colab": {
      "provenance": [],
      "authorship_tag": "ABX9TyPY+lZzdH0Na4o625E6h3ea",
      "include_colab_link": true
    },
    "kernelspec": {
      "name": "python3",
      "display_name": "Python 3"
    },
    "language_info": {
      "name": "python"
    }
  },
  "cells": [
    {
      "cell_type": "markdown",
      "metadata": {
        "id": "view-in-github",
        "colab_type": "text"
      },
      "source": [
        "<a href=\"https://colab.research.google.com/github/marcocaramanti/MLPNS_MCaramanti/blob/main/W7_NN/neural_network.ipynb\" target=\"_parent\"><img src=\"https://colab.research.google.com/assets/colab-badge.svg\" alt=\"Open In Colab\"/></a>"
      ]
    },
    {
      "cell_type": "code",
      "execution_count": 1,
      "metadata": {
        "id": "QZWCa0zaKOiQ"
      },
      "outputs": [],
      "source": [
        "import numpy as np\n",
        "import pylab as pl"
      ]
    },
    {
      "cell_type": "code",
      "source": [
        "X = np.array(\n",
        "    [[0,0,1],\n",
        "     [1,1,1],\n",
        "     [1,0,1],\n",
        "     [0,1,1]])"
      ],
      "metadata": {
        "id": "fZwBRA3pKSj3"
      },
      "execution_count": 2,
      "outputs": []
    },
    {
      "cell_type": "code",
      "source": [
        "pl.imshow(X);\n",
        "pl.axis('off');"
      ],
      "metadata": {
        "colab": {
          "base_uri": "https://localhost:8080/",
          "height": 406
        },
        "id": "E7HHW_pLK7nq",
        "outputId": "38a01c24-be48-4415-aa70-43033289a8e5"
      },
      "execution_count": 6,
      "outputs": [
        {
          "output_type": "display_data",
          "data": {
            "text/plain": [
              "<Figure size 640x480 with 1 Axes>"
            ],
            "image/png": "[encoded data removed]"
          },
          "metadata": {}
        }
      ]
    },
    {
      "cell_type": "code",
      "source": [
        "y = np.array([[0,1,1,0]]).T\n",
        "y"
      ],
      "metadata": {
        "colab": {
          "base_uri": "https://localhost:8080/"
        },
        "id": "70VAOkH1K90p",
        "outputId": "dc2a9459-fe45-477c-f98c-a77c8d501bc7"
      },
      "execution_count": 7,
      "outputs": [
        {
          "output_type": "execute_result",
          "data": {
            "text/plain": [
              "array([[0],\n",
              "       [1],\n",
              "       [1],\n",
              "       [0]])"
            ]
          },
          "metadata": {},
          "execution_count": 7
        }
      ]
    },
    {
      "cell_type": "code",
      "source": [
        "y.shape"
      ],
      "metadata": {
        "colab": {
          "base_uri": "https://localhost:8080/"
        },
        "id": "rVdN7ErELN36",
        "outputId": "47520141-a343-45eb-d1f7-7d81681db325"
      },
      "execution_count": 8,
      "outputs": [
        {
          "output_type": "execute_result",
          "data": {
            "text/plain": [
              "(4, 1)"
            ]
          },
          "metadata": {},
          "execution_count": 8
        }
      ]
    },
    {
      "cell_type": "code",
      "source": [
        "print(\"input\\n\", X)\n",
        "print(\"output\\n\", y)"
      ],
      "metadata": {
        "colab": {
          "base_uri": "https://localhost:8080/"
        },
        "id": "BU1IIFeXLPi6",
        "outputId": "30352cf1-65a0-44e4-fdcb-7c73caee6c30"
      },
      "execution_count": 9,
      "outputs": [
        {
          "output_type": "stream",
          "name": "stdout",
          "text": [
            "input\n",
            " [[0 0 1]\n",
            " [1 1 1]\n",
            " [1 0 1]\n",
            " [0 1 1]]\n",
            "output\n",
            " [[0]\n",
            " [1]\n",
            " [1]\n",
            " [0]]\n"
          ]
        }
      ]
    },
    {
      "cell_type": "markdown",
      "source": [
        "# Basic architecture: 1 layer"
      ],
      "metadata": {
        "id": "b6jZHiVEMDks"
      }
    },
    {
      "cell_type": "markdown",
      "source": [
        "L'idea è predirre i risultati sulla basa della matrice X. Lo facciamo con una architettura base:\n",
        "- 1 layer\n",
        "- 3 neuroni\n",
        "- 4 osservazioni\n",
        "\n"
      ],
      "metadata": {
        "id": "TQPwSKzjLnE9"
      }
    },
    {
      "cell_type": "code",
      "source": [
        "def sigmoid(x):\n",
        "  return 1./(1. + np.exp(-x))"
      ],
      "metadata": {
        "id": "oq7vVYRILbK7"
      },
      "execution_count": 10,
      "outputs": []
    },
    {
      "cell_type": "code",
      "source": [
        "pl.plot(sigmoid(np.arange(-10,10,0.1)))"
      ],
      "metadata": {
        "colab": {
          "base_uri": "https://localhost:8080/",
          "height": 447
        },
        "id": "CftI2EKiMLfG",
        "outputId": "7b54d1d2-a25b-434e-9222-3da62bab649e"
      },
      "execution_count": 11,
      "outputs": [
        {
          "output_type": "execute_result",
          "data": {
            "text/plain": [
              "[<matplotlib.lines.Line2D at 0x7f05805f9190>]"
            ]
          },
          "metadata": {},
          "execution_count": 11
        },
        {
          "output_type": "display_data",
          "data": {
            "text/plain": [
              "<Figure size 640x480 with 1 Axes>"
            ],
            "image/png": "[encoded data removed]"
          },
          "metadata": {}
        }
      ]
    },
    {
      "cell_type": "code",
      "source": [
        "# Ci servirà la derivata della sigmoide\n",
        "\n",
        "def dsigmoid(x):\n",
        "  return x * (1. - x)"
      ],
      "metadata": {
        "id": "7d9A3rWINM56"
      },
      "execution_count": 13,
      "outputs": []
    },
    {
      "cell_type": "code",
      "source": [
        "# Per la loss function trattiamo ogni datapoint come se fosse un intero dataset,\n",
        "# cioè ritorniamo un vettore delle distanze.\n",
        "# Consideriamo la semplice distanza, senza usare né modulo né quadrat\n",
        "\n",
        "def loss(prediction, target):\n",
        "  return target - prediction"
      ],
      "metadata": {
        "id": "rf0-JXSoMWmn"
      },
      "execution_count": 12,
      "outputs": []
    },
    {
      "cell_type": "markdown",
      "source": [
        "## Neural network"
      ],
      "metadata": {
        "id": "iqr0SHZRMzO9"
      }
    },
    {
      "cell_type": "markdown",
      "source": [
        "Partiamo da un punto a caso, poi ottimizziamo i parametri usando una discesa del gradiente in modo da ottimizzare la loss function.\n",
        "\n",
        "Avremo un processo iterativo. Come decidere quando fermarlo? Qui impostare un criterio di convergenza può essere pericoloso perché il modello è instabile. Allora setteremo semplicemente un numero di iterazioni (numero di epoche)."
      ],
      "metadata": {
        "id": "3MscCYZHM65L"
      }
    },
    {
      "cell_type": "code",
      "source": [
        "training = 6000 # Numero di epoche"
      ],
      "metadata": {
        "id": "AV-lBVNSMyef"
      },
      "execution_count": 14,
      "outputs": []
    },
    {
      "cell_type": "code",
      "source": [
        "# Layer of synopses / neurons\n",
        "# (4 x 3) dot (3 x 1)\n",
        "\n",
        "np.random.seed(302)\n",
        "\n",
        "syn0 = 2 * np.random.random((3, 1)) - 1\n",
        "print(syn0.shape)\n",
        "print(syn0)"
      ],
      "metadata": {
        "colab": {
          "base_uri": "https://localhost:8080/"
        },
        "id": "ZKVPUmzBN1aR",
        "outputId": "0405a871-0ad5-4f49-92e3-f2149606cdf4"
      },
      "execution_count": 18,
      "outputs": [
        {
          "output_type": "stream",
          "name": "stdout",
          "text": [
            "(3, 1)\n",
            "[[ 0.27256242]\n",
            " [ 0.65008468]\n",
            " [-0.31671053]]\n"
          ]
        }
      ]
    },
    {
      "cell_type": "code",
      "source": [
        "# Ricopiamo qui questi comandi in modo da inizializzare bene le sinapsi\n",
        "\n",
        "np.random.seed(302)\n",
        "syn0 = 2 * np.random.random((3, 1)) - 1\n",
        "\n",
        "loss_output = []\n",
        "\n",
        "for iter in range(training):\n",
        "  inputLayer = X\n",
        "\n",
        "  # Forward propagation\n",
        "  # Linear regression (dot product linear algebra solution)\n",
        "  l1 = np.dot(inputLayer, syn0)\n",
        "  # Activations\n",
        "  output = sigmoid(l1)\n",
        "\n",
        "  # Calculate error\n",
        "  output_error = loss(output, y)\n",
        "  loss_output.append(np.abs(output_error).sum())\n",
        "\n",
        "  # Backward propagation\n",
        "  # Calculate correction\n",
        "  output_delta = output_error * dsigmoid(output)\n",
        "\n",
        "  # Apply correction to weights\n",
        "  syn0 += np.dot(inputLayer.T, output_delta)\n",
        "\n",
        "print(\"Output after training\\n\", output)\n",
        "print(\"Output target\\n\", y)"
      ],
      "metadata": {
        "colab": {
          "base_uri": "https://localhost:8080/"
        },
        "id": "IAw5hsHCOeDc",
        "outputId": "fec9a797-efc0-4ea8-fa6d-d1cd3ad8735e"
      },
      "execution_count": 27,
      "outputs": [
        {
          "output_type": "stream",
          "name": "stdout",
          "text": [
            "Output after training\n",
            " [[0.01254551]\n",
            " [0.98977455]\n",
            " [0.99169035]\n",
            " [0.0101995 ]]\n",
            "Output target\n",
            " [[0]\n",
            " [1]\n",
            " [1]\n",
            " [0]]\n"
          ]
        }
      ]
    },
    {
      "cell_type": "code",
      "source": [
        "pl.plot(loss_output, label=\"Output\")\n",
        "pl.legend()\n",
        "pl.xlabel(\"Iterazion (epoch)\")\n",
        "pl.ylabel(\"Global loss\")"
      ],
      "metadata": {
        "colab": {
          "base_uri": "https://localhost:8080/",
          "height": 466
        },
        "id": "KYGyPdnUPlXg",
        "outputId": "94040656-ac3b-4ab1-88e8-f9f5a08648bf"
      },
      "execution_count": 28,
      "outputs": [
        {
          "output_type": "execute_result",
          "data": {
            "text/plain": [
              "Text(0, 0.5, 'Global loss')"
            ]
          },
          "metadata": {},
          "execution_count": 28
        },
        {
          "output_type": "display_data",
          "data": {
            "text/plain": [
              "<Figure size 640x480 with 1 Axes>"
            ],
            "image/png": "[encoded data removed]"
          },
          "metadata": {}
        }
      ]
    },
    {
      "cell_type": "code",
      "source": [],
      "metadata": {
        "id": "vAWFG09yQ1ZY"
      },
      "execution_count": null,
      "outputs": []
    }
  ]
}